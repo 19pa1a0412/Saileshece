{
  "nbformat": 4,
  "nbformat_minor": 0,
  "metadata": {
    "colab": {
      "name": "Untitled4.ipynb",
      "provenance": [],
      "authorship_tag": "ABX9TyMoAeLU+6dSwr+psK1Mptf8",
      "include_colab_link": true
    },
    "kernelspec": {
      "name": "python3",
      "display_name": "Python 3"
    }
  },
  "cells": [
    {
      "cell_type": "markdown",
      "metadata": {
        "id": "view-in-github",
        "colab_type": "text"
      },
      "source": [
        "<a href=\"https://colab.research.google.com/github/19pa1a0412/Saileshece/blob/master/Linear%20Regression.ipynb\" target=\"_parent\"><img src=\"https://colab.research.google.com/assets/colab-badge.svg\" alt=\"Open In Colab\"/></a>"
      ]
    },
    {
      "cell_type": "code",
      "metadata": {
        "id": "HPVCDmXfcQtm",
        "colab_type": "code",
        "colab": {}
      },
      "source": [
        "import os\n",
        "import pandas as pd\n",
        "import numpy as np\n",
        "import matplotlib.pyplot as plt\n",
        "import statsmodels.api as sm\n",
        "from sklearn.linear_model import LinearRegression\n",
        "from sklearn.model_selection import train_test_split\n",
        "from sklearn.metrics import mean_squared_error\n",
        "\n"
      ],
      "execution_count": 0,
      "outputs": []
    },
    {
      "cell_type": "code",
      "metadata": {
        "id": "QiUdiqqucZdm",
        "colab_type": "code",
        "colab": {
          "base_uri": "https://localhost:8080/",
          "height": 272
        },
        "outputId": "2b498396-307e-470f-9148-639460358694"
      },
      "source": [
        "df=pd.read_csv(\"/content/GPA Vs SAT.csv\")\n",
        "print(df)"
      ],
      "execution_count": 21,
      "outputs": [
        {
          "output_type": "stream",
          "text": [
            "     SAT   GPA\n",
            "0   1714  2.40\n",
            "1   1664  2.52\n",
            "2   1760  2.54\n",
            "3   1685  2.74\n",
            "4   1693  2.83\n",
            "..   ...   ...\n",
            "79  1936  3.71\n",
            "80  1810  3.71\n",
            "81  1987  3.73\n",
            "82  1962  3.76\n",
            "83  2050  3.81\n",
            "\n",
            "[84 rows x 2 columns]\n"
          ],
          "name": "stdout"
        }
      ]
    },
    {
      "cell_type": "code",
      "metadata": {
        "id": "cAPddFwoyeeM",
        "colab_type": "code",
        "colab": {
          "base_uri": "https://localhost:8080/",
          "height": 126
        },
        "outputId": "2e860a42-3bef-4e66-f690-e2481bd871cf"
      },
      "source": [
        "print(df.head())"
      ],
      "execution_count": 22,
      "outputs": [
        {
          "output_type": "stream",
          "text": [
            "    SAT   GPA\n",
            "0  1714  2.40\n",
            "1  1664  2.52\n",
            "2  1760  2.54\n",
            "3  1685  2.74\n",
            "4  1693  2.83\n"
          ],
          "name": "stdout"
        }
      ]
    },
    {
      "cell_type": "code",
      "metadata": {
        "id": "-8Bj6d6X0rNY",
        "colab_type": "code",
        "colab": {
          "base_uri": "https://localhost:8080/",
          "height": 284
        },
        "outputId": "82935be9-2503-4489-b745-674c9e9a8693"
      },
      "source": [
        "df['GPA'].plot(kind='box')"
      ],
      "execution_count": 23,
      "outputs": [
        {
          "output_type": "execute_result",
          "data": {
            "text/plain": [
              "<matplotlib.axes._subplots.AxesSubplot at 0x7f44d1f53710>"
            ]
          },
          "metadata": {
            "tags": []
          },
          "execution_count": 23
        },
        {
          "output_type": "display_data",
          "data": {
            "image/png": "[encoded data removed]",
            "text/plain": [
              "<Figure size 432x288 with 1 Axes>"
            ]
          },
          "metadata": {
            "tags": []
          }
        }
      ]
    },
    {
      "cell_type": "code",
      "metadata": {
        "id": "wYCB9_qB1WkX",
        "colab_type": "code",
        "colab": {
          "base_uri": "https://localhost:8080/",
          "height": 265
        },
        "outputId": "49d556e0-6a99-4250-bf79-e93715aa85c0"
      },
      "source": [
        "plt.plot(df.SAT,df.GPA,'go')\n",
        "plt.show()"
      ],
      "execution_count": 37,
      "outputs": [
        {
          "output_type": "display_data",
          "data": {
            "image/png": "[encoded data removed]",
            "text/plain": [
              "<Figure size 432x288 with 1 Axes>"
            ]
          },
          "metadata": {
            "tags": []
          }
        }
      ]
    },
    {
      "cell_type": "code",
      "metadata": {
        "id": "uPu-foJf3I2D",
        "colab_type": "code",
        "colab": {
          "base_uri": "https://localhost:8080/",
          "height": 108
        },
        "outputId": "bb156503-0511-4967-840f-fce2bd2a7410"
      },
      "source": [
        "df.corr()"
      ],
      "execution_count": 39,
      "outputs": [
        {
          "output_type": "execute_result",
          "data": {
            "text/html": [
              "<div>\n",
              "<style scoped>\n",
              "    .dataframe tbody tr th:only-of-type {\n",
              "        vertical-align: middle;\n",
              "    }\n",
              "\n",
              "    .dataframe tbody tr th {\n",
              "        vertical-align: top;\n",
              "    }\n",
              "\n",
              "    .dataframe thead th {\n",
              "        text-align: right;\n",
              "    }\n",
              "</style>\n",
              "<table border=\"1\" class=\"dataframe\">\n",
              "  <thead>\n",
              "    <tr style=\"text-align: right;\">\n",
              "      <th></th>\n",
              "      <th>SAT</th>\n",
              "      <th>GPA</th>\n",
              "    </tr>\n",
              "  </thead>\n",
              "  <tbody>\n",
              "    <tr>\n",
              "      <th>SAT</th>\n",
              "      <td>1.000000</td>\n",
              "      <td>0.637184</td>\n",
              "    </tr>\n",
              "    <tr>\n",
              "      <th>GPA</th>\n",
              "      <td>0.637184</td>\n",
              "      <td>1.000000</td>\n",
              "    </tr>\n",
              "  </tbody>\n",
              "</table>\n",
              "</div>"
            ],
            "text/plain": [
              "          SAT       GPA\n",
              "SAT  1.000000  0.637184\n",
              "GPA  0.637184  1.000000"
            ]
          },
          "metadata": {
            "tags": []
          },
          "execution_count": 39
        }
      ]
    },
    {
      "cell_type": "code",
      "metadata": {
        "id": "mmeuKQoY4zqx",
        "colab_type": "code",
        "colab": {
          "base_uri": "https://localhost:8080/",
          "height": 254
        },
        "outputId": "0a4273b1-4fbf-4c79-c2f5-037b8c36243e"
      },
      "source": [
        "\n",
        "X_train,X_test,y_train,y_test=train_test_split(np.asarray(df['SAT']),np.asarray(df['GPA']),test_size=0.2,random_state=123)\n",
        "print(df.shape)\n",
        "print(\"\\n\")\n",
        "print(X_train.shape)\n",
        "print(\"\\n\")\n",
        "print(X_test.shape)\n",
        "print(\"\\n\")\n",
        "print(y_train.shape)\n",
        "print(\"\\n\")\n",
        "print(y_test.shape)"
      ],
      "execution_count": 45,
      "outputs": [
        {
          "output_type": "stream",
          "text": [
            "(84, 2)\n",
            "\n",
            "\n",
            "(67,)\n",
            "\n",
            "\n",
            "(17,)\n",
            "\n",
            "\n",
            "(67,)\n",
            "\n",
            "\n",
            "(17,)\n"
          ],
          "name": "stdout"
        }
      ]
    },
    {
      "cell_type": "code",
      "metadata": {
        "id": "Oy7OU7hX-0vG",
        "colab_type": "code",
        "colab": {}
      },
      "source": [
        "X_train=X_train.reshape(-1,1)\n",
        "y_train=y_train.reshape(-1,1)\n",
        "\n",
        "X_test=X_test.reshape(-1,1)\n",
        "y_test=y_test.reshape(-1,1)\n"
      ],
      "execution_count": 0,
      "outputs": []
    },
    {
      "cell_type": "code",
      "metadata": {
        "id": "TbAKXjxp_aH0",
        "colab_type": "code",
        "colab": {
          "base_uri": "https://localhost:8080/",
          "height": 254
        },
        "outputId": "5d2571e5-c99e-4814-bcae-0e2b3b15e735"
      },
      "source": [
        "print(df.shape)\n",
        "print(\"\\n\")\n",
        "print(X_train.shape)\n",
        "print(\"\\n\")\n",
        "print(X_test.shape)\n",
        "print(\"\\n\")\n",
        "print(y_train.shape)\n",
        "print(\"\\n\")\n",
        "print(y_test.shape)"
      ],
      "execution_count": 48,
      "outputs": [
        {
          "output_type": "stream",
          "text": [
            "(84, 2)\n",
            "\n",
            "\n",
            "(67, 1)\n",
            "\n",
            "\n",
            "(17, 1)\n",
            "\n",
            "\n",
            "(67, 1)\n",
            "\n",
            "\n",
            "(17, 1)\n"
          ],
          "name": "stdout"
        }
      ]
    },
    {
      "cell_type": "code",
      "metadata": {
        "id": "nkVCNfv__eoF",
        "colab_type": "code",
        "colab": {
          "base_uri": "https://localhost:8080/",
          "height": 54
        },
        "outputId": "a9d9d492-f2e2-4758-8167-96de58a09b9a"
      },
      "source": [
        "lin_model=LinearRegression(normalize=True)\n",
        "lin_model.fit(X_train,y_train)\n",
        "print(lin_model.coef_)\n",
        "print(lin_model.intercept_)"
      ],
      "execution_count": 49,
      "outputs": [
        {
          "output_type": "stream",
          "text": [
            "[[0.00175421]]\n",
            "[0.08665701]\n"
          ],
          "name": "stdout"
        }
      ]
    },
    {
      "cell_type": "code",
      "metadata": {
        "id": "6vevhWM8BSPz",
        "colab_type": "code",
        "colab": {}
      },
      "source": [
        ""
      ],
      "execution_count": 0,
      "outputs": []
    }
  ]
}