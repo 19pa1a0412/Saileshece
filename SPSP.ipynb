{
  "nbformat": 4,
  "nbformat_minor": 0,
  "metadata": {
    "colab": {
      "name": "Untitled3.ipynb",
      "provenance": [],
      "authorship_tag": "ABX9TyPDrkeE2M/dMI//7IMWQTJN",
      "include_colab_link": true
    },
    "kernelspec": {
      "name": "python3",
      "display_name": "Python 3"
    }
  },
  "cells": [
    {
      "cell_type": "markdown",
      "metadata": {
        "id": "view-in-github",
        "colab_type": "text"
      },
      "source": [
        "<a href=\"https://colab.research.google.com/github/19pa1a0412/Saileshece/blob/master/SPSP.ipynb\" target=\"_parent\"><img src=\"https://colab.research.google.com/assets/colab-badge.svg\" alt=\"Open In Colab\"/></a>"
      ]
    },
    {
      "cell_type": "markdown",
      "metadata": {
        "id": "tfMScEcimLAW",
        "colab_type": "text"
      },
      "source": [
        "#**DESCRIPTION**"
      ]
    },
    {
      "cell_type": "markdown",
      "metadata": {
        "id": "xuBHmcxqknP1",
        "colab_type": "text"
      },
      "source": [
        "**OUR DATA IS ABOUT GOOGLE PLAYSTORE APPS**\n",
        "\n",
        " **APPS**: App is a computer program or software application designed to run on a mobile device such as a phone, tablet, or watch.\n",
        "\n",
        " **CATEGORY**:A class or division of people or things regarded as having particular shared characteristics.\n",
        "\n",
        " **RATING**:A rating is an evaluation or assessment of something, in terms of quality, quantity, or some combination of both.\n",
        " \n",
        " **REVIEWS**:A critical appraisal of a book,play,film,etc.published in a newspaper or magazine.\n",
        "\n",
        " **SITE**:A set of related web pages, typically with a common domain name and hosted on at least one web server.\n",
        "\n",
        " **INSTALL**: To put in place or connect for service or use.\n",
        "\n",
        "**TYPE**: A category of people or things having common characteristics.\n",
        "\n",
        "**PRIZE**:Something of great value that is worth.\n",
        "\n",
        "**CONTENT**:The information and experiences that are directed toward an end-user or audience.\n",
        "\n",
        "**GENRES**:A style or category of art, music, or literature.\n",
        "\n",
        "**LAST UPDATED**:The last modification of an app.\n",
        "\n",
        "**CURRENT VERSION**:The current andriod version in mobile.\n",
        "\n",
        "**ANDROID VERSION**: Android is a mobile operating system developed by Google. It is used by several smartphones and tablets.\n",
        "\n"
      ]
    },
    {
      "cell_type": "markdown",
      "metadata": {
        "id": "Tqk_8aTvl6rV",
        "colab_type": "text"
      },
      "source": [
        "#**READING DATA**\n"
      ]
    },
    {
      "cell_type": "code",
      "metadata": {
        "id": "s50bR0Grk5Lo",
        "colab_type": "code",
        "colab": {}
      },
      "source": [
        "#IMPORTING PANDAS\n",
        "import pandas as pd\n",
        "\n"
      ],
      "execution_count": 0,
      "outputs": []
    },
    {
      "cell_type": "code",
      "metadata": {
        "id": "htDH4eY0mrNT",
        "colab_type": "code",
        "outputId": "29f46d3b-3d7e-4a96-e73d-53931c1d1fed",
        "colab": {
          "base_uri": "https://localhost:8080/",
          "height": 251
        }
      },
      "source": [
        "apps=pd.read_csv('/content/googleplaystore.csv')\n",
        "print(apps)"
      ],
      "execution_count": 8,
      "outputs": [
        {
          "output_type": "stream",
          "text": [
            "                                                     App  ...         Android Ver\n",
            "0         Photo Editor & Candy Camera & Grid & ScrapBook  ...        4.0.3 and up\n",
            "1                                    Coloring book moana  ...        4.0.3 and up\n",
            "2      U Launcher Lite – FREE Live Cool Themes, Hide ...  ...        4.0.3 and up\n",
            "3                                  Sketch - Draw & Paint  ...          4.2 and up\n",
            "4                  Pixel Draw - Number Art Coloring Book  ...          4.4 and up\n",
            "...                                                  ...  ...                 ...\n",
            "10836                                   Sya9a Maroc - FR  ...          4.1 and up\n",
            "10837                   Fr. Mike Schmitz Audio Teachings  ...          4.1 and up\n",
            "10838                             Parkinson Exercices FR  ...          2.2 and up\n",
            "10839                      The SCP Foundation DB fr nn5n  ...  Varies with device\n",
            "10840      iHoroscope - 2018 Daily Horoscope & Astrology  ...  Varies with device\n",
            "\n",
            "[10841 rows x 13 columns]\n"
          ],
          "name": "stdout"
        }
      ]
    },
    {
      "cell_type": "markdown",
      "metadata": {
        "id": "VKAeLq7Zqw_7",
        "colab_type": "text"
      },
      "source": [
        "#**Questions**\n",
        "1. How do you get the top 3 rows of the given dataset?\n",
        "2. How do you get the last 3 rows of the given dataset?\n",
        "3. What are the dimensions of the dataframe?\n",
        "4. How do you print the column names of the given dataframe?\n",
        "5. How do you find the datatypes of the given variables?\n"
      ]
    },
    {
      "cell_type": "markdown",
      "metadata": {
        "id": "-e8iYjpCnAsD",
        "colab_type": "text"
      },
      "source": [
        "#**CHECKING DATA DIMENSIONS**\n",
        "- use the shape method on dataframe to get the dimensions\n"
      ]
    },
    {
      "cell_type": "code",
      "metadata": {
        "id": "RFbHPInQnR_n",
        "colab_type": "code",
        "outputId": "1e964e86-957f-4ee6-a754-baf76f286714",
        "colab": {
          "base_uri": "https://localhost:8080/",
          "height": 33
        }
      },
      "source": [
        "print(apps.shape)"
      ],
      "execution_count": 9,
      "outputs": [
        {
          "output_type": "stream",
          "text": [
            "(10841, 13)\n"
          ],
          "name": "stdout"
        }
      ]
    },
    {
      "cell_type": "code",
      "metadata": {
        "id": "77HmIiqEndRs",
        "colab_type": "code",
        "outputId": "c401d4af-ea3c-42d6-bd3f-b9aec5e7ea6d",
        "colab": {
          "base_uri": "https://localhost:8080/",
          "height": 117
        }
      },
      "source": [
        "## Getting top 3 rows using head method\n",
        "print(apps.head(3))"
      ],
      "execution_count": 10,
      "outputs": [
        {
          "output_type": "stream",
          "text": [
            "                                                 App  ...   Android Ver\n",
            "0     Photo Editor & Candy Camera & Grid & ScrapBook  ...  4.0.3 and up\n",
            "1                                Coloring book moana  ...  4.0.3 and up\n",
            "2  U Launcher Lite – FREE Live Cool Themes, Hide ...  ...  4.0.3 and up\n",
            "\n",
            "[3 rows x 13 columns]\n"
          ],
          "name": "stdout"
        }
      ]
    },
    {
      "cell_type": "code",
      "metadata": {
        "id": "w0gxTm89npWj",
        "colab_type": "code",
        "outputId": "dcf049a9-6f85-466b-f95b-49ba79e229b9",
        "colab": {
          "base_uri": "https://localhost:8080/",
          "height": 117
        }
      },
      "source": [
        "## Getting last 3 rows using tail method\n",
        "print(apps.tail(3))"
      ],
      "execution_count": 11,
      "outputs": [
        {
          "output_type": "stream",
          "text": [
            "                                                 App  ...         Android Ver\n",
            "10838                         Parkinson Exercices FR  ...          2.2 and up\n",
            "10839                  The SCP Foundation DB fr nn5n  ...  Varies with device\n",
            "10840  iHoroscope - 2018 Daily Horoscope & Astrology  ...  Varies with device\n",
            "\n",
            "[3 rows x 13 columns]\n"
          ],
          "name": "stdout"
        }
      ]
    },
    {
      "cell_type": "code",
      "metadata": {
        "id": "6uOlQIT8ocIT",
        "colab_type": "code",
        "outputId": "e249e536-59ee-4b20-f9a0-81608bf97852",
        "colab": {
          "base_uri": "https://localhost:8080/",
          "height": 84
        }
      },
      "source": [
        "# .columns give columns names\n",
        "print(apps.columns)"
      ],
      "execution_count": 12,
      "outputs": [
        {
          "output_type": "stream",
          "text": [
            "Index(['App', 'Category', 'Rating', 'Reviews', 'Size', 'Installs', 'Type',\n",
            "       'Price', 'Content Rating', 'Genres', 'Last Updated', 'Current Ver',\n",
            "       'Android Ver'],\n",
            "      dtype='object')\n"
          ],
          "name": "stdout"
        }
      ]
    },
    {
      "cell_type": "code",
      "metadata": {
        "id": "8KWT1lNrojDJ",
        "colab_type": "code",
        "outputId": "2ad6a19c-1900-4247-b456-b52fcb497ea3",
        "colab": {
          "base_uri": "https://localhost:8080/",
          "height": 251
        }
      },
      "source": [
        "## .dtypes gives data types for each column\n",
        "print(apps.dtypes)"
      ],
      "execution_count": 13,
      "outputs": [
        {
          "output_type": "stream",
          "text": [
            "App                object\n",
            "Category           object\n",
            "Rating            float64\n",
            "Reviews            object\n",
            "Size               object\n",
            "Installs           object\n",
            "Type               object\n",
            "Price              object\n",
            "Content Rating     object\n",
            "Genres             object\n",
            "Last Updated       object\n",
            "Current Ver        object\n",
            "Android Ver        object\n",
            "dtype: object\n"
          ],
          "name": "stdout"
        }
      ]
    },
    {
      "cell_type": "markdown",
      "metadata": {
        "id": "WS2E6d2Sj9-g",
        "colab_type": "text"
      },
      "source": [
        "# Bar Graph"
      ]
    },
    {
      "cell_type": "code",
      "metadata": {
        "id": "pqSb7adnow43",
        "colab_type": "code",
        "colab": {
          "base_uri": "https://localhost:8080/",
          "height": 369
        },
        "outputId": "7cb16bd1-3004-4207-876f-672b054c57d4"
      },
      "source": [
        "from matplotlib import pyplot as plt \n",
        "from matplotlib import style\n",
        "appdata=apps.groupby('Content Rating')['Rating'].mean()\n",
        "plt.xlabel(\"Cateogory\")\n",
        "plt.ylabel(\"Rating\")\n",
        "plt.title(\"Google PlayStore Appdata\")\n",
        "plt.style.use('ggplot')\n",
        "appdata.plot(kind= 'bar',)\n",
        "plt.show()\n"
      ],
      "execution_count": 61,
      "outputs": [
        {
          "output_type": "display_data",
          "data": {
            "image/png": "[encoded data removed]",
            "text/plain": [
              "<Figure size 432x288 with 1 Axes>"
            ]
          },
          "metadata": {
            "tags": []
          }
        }
      ]
    },
    {
      "cell_type": "code",
      "metadata": {
        "id": "juvFfyx2K8x0",
        "colab_type": "code",
        "colab": {}
      },
      "source": [
        ""
      ],
      "execution_count": 0,
      "outputs": []
    },
    {
      "cell_type": "code",
      "metadata": {
        "colab_type": "code",
        "outputId": "71cbfb02-8cd1-4de4-c91b-24ce8bf6d28d",
        "id": "BqYP7M3en5aP",
        "colab": {
          "base_uri": "https://localhost:8080/",
          "height": 299
        }
      },
      "source": [
        "from matplotlib import pyplot as plt \n",
        "from matplotlib import style\n",
        "appdata=apps.groupby('Content Rating')['Rating'].mean()\n",
        "plt.ylabel(\"Rating\")\n",
        "plt.title(\"Google PlayStore Appdata\")\n",
        "plt.style.use('ggplot')\n",
        "appdata.plot()\n",
        "plt.show()\n"
      ],
      "execution_count": 59,
      "outputs": [
        {
          "output_type": "display_data",
          "data": {
            "image/png": "[encoded data removed]",
            "text/plain": [
              "<Figure size 432x288 with 1 Axes>"
            ]
          },
          "metadata": {
            "tags": []
          }
        }
      ]
    },
    {
      "cell_type": "code",
      "metadata": {
        "id": "daQ9kJhQn9ZD",
        "colab_type": "code",
        "colab": {}
      },
      "source": [
        ""
      ],
      "execution_count": 0,
      "outputs": []
    },
    {
      "cell_type": "code",
      "metadata": {
        "colab_type": "code",
        "outputId": "e43f4cf2-f087-483f-b045-b375fd650306",
        "id": "NYkPmfD9qkkV",
        "colab": {
          "base_uri": "https://localhost:8080/",
          "height": 265
        }
      },
      "source": [
        "from matplotlib import pyplot as plt \n",
        "from matplotlib import style\n",
        "appdata=apps.groupby('Content Rating')['Rating'].mean()\n",
        "plt.ylabel(\"Rating\")\n",
        "plt.title(\"Google PlayStore Appdata\")\n",
        "plt.style.use('ggplot')\n",
        "appdata.plot(kind= 'pie',)\n",
        "plt.show()\n"
      ],
      "execution_count": 62,
      "outputs": [
        {
          "output_type": "display_data",
          "data": {
            "image/png": "[encoded data removed]",
            "text/plain": [
              "<Figure size 432x288 with 1 Axes>"
            ]
          },
          "metadata": {
            "tags": []
          }
        }
      ]
    },
    {
      "cell_type": "code",
      "metadata": {
        "id": "QsuG1YfAqoY9",
        "colab_type": "code",
        "colab": {}
      },
      "source": [
        ""
      ],
      "execution_count": 0,
      "outputs": []
    }
  ]
}