{
  "nbformat": 4,
  "nbformat_minor": 0,
  "metadata": {
    "colab": {
      "name": "Untitled3.ipynb",
      "provenance": [],
      "authorship_tag": "ABX9TyP+YzmuQKfvF9CNRw+tTtmn",
      "include_colab_link": true
    },
    "kernelspec": {
      "name": "python3",
      "display_name": "Python 3"
    }
  },
  "cells": [
    {
      "cell_type": "markdown",
      "metadata": {
        "id": "view-in-github",
        "colab_type": "text"
      },
      "source": [
        "<a href=\"https://colab.research.google.com/github/19pa1a0412/Saileshece/blob/master/SPSP.ipynb\" target=\"_parent\"><img src=\"https://colab.research.google.com/assets/colab-badge.svg\" alt=\"Open In Colab\"/></a>"
      ]
    },
    {
      "cell_type": "markdown",
      "metadata": {
        "id": "tfMScEcimLAW",
        "colab_type": "text"
      },
      "source": [
        "#**DESCRIPTION**"
      ]
    },
    {
      "cell_type": "markdown",
      "metadata": {
        "id": "xuBHmcxqknP1",
        "colab_type": "text"
      },
      "source": [
        "**OUR DATA IS ABOUT GOOGLE PLAYSTORE APPS**\n",
        "\n",
        " **APPS**: App is a computer program or software application designed to run on a mobile device such as a phone, tablet, or watch.\n",
        "\n",
        " **CATEGORY**:A class or division of people or things regarded as having particular shared characteristics.\n",
        "\n",
        " **RATING**:A rating is an evaluation or assessment of something, in terms of quality, quantity, or some combination of both.\n",
        " \n",
        " **REVIEWS**:A critical appraisal of a book,play,film,etc.published in a newspaper or magazine.\n",
        "\n",
        " **SITE**:A set of related web pages, typically with a common domain name and hosted on at least one web server.\n",
        "\n",
        " **INSTALL**: To put in place or connect for service or use.\n",
        "\n",
        "**TYPE**: A category of people or things having common characteristics.\n",
        "\n",
        "**PRIZE**:Something of great value that is worth.\n",
        "\n",
        "**CONTENT**:The information and experiences that are directed toward an end-user or audience.\n",
        "\n",
        "**GENRES**:A style or category of art, music, or literature.\n",
        "\n",
        "**LAST UPDATED**:The last modification of an app.\n",
        "\n",
        "**CURRENT VERSION**:The current andriod version in mobile.\n",
        "\n",
        "**ANDROID VERSION**: Android is a mobile operating system developed by Google. It is used by several smartphones and tablets.\n",
        "\n"
      ]
    },
    {
      "cell_type": "markdown",
      "metadata": {
        "id": "Tqk_8aTvl6rV",
        "colab_type": "text"
      },
      "source": [
        "#**READING DATA**\n"
      ]
    },
    {
      "cell_type": "code",
      "metadata": {
        "id": "s50bR0Grk5Lo",
        "colab_type": "code",
        "colab": {}
      },
      "source": [
        "#IMPORTING PANDAS\n",
        "import pandas as pd\n",
        "\n"
      ],
      "execution_count": 0,
      "outputs": []
    },
    {
      "cell_type": "code",
      "metadata": {
        "id": "htDH4eY0mrNT",
        "colab_type": "code",
        "colab": {
          "base_uri": "https://localhost:8080/",
          "height": 255
        },
        "outputId": "690c5f29-9c4c-4aa4-afe2-7c7baf890d70"
      },
      "source": [
        "apps=pd.read_csv('/content/googleplaystore.csv')\n",
        "print(apps)"
      ],
      "execution_count": 3,
      "outputs": [
        {
          "output_type": "stream",
          "text": [
            "                                                     App  ...         Android Ver\n",
            "0         Photo Editor & Candy Camera & Grid & ScrapBook  ...        4.0.3 and up\n",
            "1                                    Coloring book moana  ...        4.0.3 and up\n",
            "2      U Launcher Lite – FREE Live Cool Themes, Hide ...  ...        4.0.3 and up\n",
            "3                                  Sketch - Draw & Paint  ...          4.2 and up\n",
            "4                  Pixel Draw - Number Art Coloring Book  ...          4.4 and up\n",
            "...                                                  ...  ...                 ...\n",
            "10836                                   Sya9a Maroc - FR  ...          4.1 and up\n",
            "10837                   Fr. Mike Schmitz Audio Teachings  ...          4.1 and up\n",
            "10838                             Parkinson Exercices FR  ...          2.2 and up\n",
            "10839                      The SCP Foundation DB fr nn5n  ...  Varies with device\n",
            "10840      iHoroscope - 2018 Daily Horoscope & Astrology  ...  Varies with device\n",
            "\n",
            "[10841 rows x 13 columns]\n"
          ],
          "name": "stdout"
        }
      ]
    },
    {
      "cell_type": "markdown",
      "metadata": {
        "id": "-e8iYjpCnAsD",
        "colab_type": "text"
      },
      "source": [
        "#**CHECKING DATA DIMENSIONS**\n",
        "- use the shape method on dataframe to get the dimensions\n"
      ]
    },
    {
      "cell_type": "code",
      "metadata": {
        "id": "RFbHPInQnR_n",
        "colab_type": "code",
        "colab": {
          "base_uri": "https://localhost:8080/",
          "height": 34
        },
        "outputId": "dbb7b66d-3e9a-4b2c-a83a-db86d83a00f9"
      },
      "source": [
        "print(apps.shape)"
      ],
      "execution_count": 4,
      "outputs": [
        {
          "output_type": "stream",
          "text": [
            "(10841, 13)\n"
          ],
          "name": "stdout"
        }
      ]
    },
    {
      "cell_type": "code",
      "metadata": {
        "id": "77HmIiqEndRs",
        "colab_type": "code",
        "colab": {
          "base_uri": "https://localhost:8080/",
          "height": 119
        },
        "outputId": "d3bc1264-f6ce-49f6-80d6-7949a7312cec"
      },
      "source": [
        "## Getting top 3 rows using head method\n",
        "print(apps.head(3))"
      ],
      "execution_count": 7,
      "outputs": [
        {
          "output_type": "stream",
          "text": [
            "                                                 App  ...   Android Ver\n",
            "0     Photo Editor & Candy Camera & Grid & ScrapBook  ...  4.0.3 and up\n",
            "1                                Coloring book moana  ...  4.0.3 and up\n",
            "2  U Launcher Lite – FREE Live Cool Themes, Hide ...  ...  4.0.3 and up\n",
            "\n",
            "[3 rows x 13 columns]\n"
          ],
          "name": "stdout"
        }
      ]
    },
    {
      "cell_type": "code",
      "metadata": {
        "id": "w0gxTm89npWj",
        "colab_type": "code",
        "colab": {
          "base_uri": "https://localhost:8080/",
          "height": 119
        },
        "outputId": "877f396b-10ea-403e-bb54-fcc01affa30e"
      },
      "source": [
        "## Getting last 3 rows using tail method\n",
        "print(apps.tail(3))"
      ],
      "execution_count": 8,
      "outputs": [
        {
          "output_type": "stream",
          "text": [
            "                                                 App  ...         Android Ver\n",
            "10838                         Parkinson Exercices FR  ...          2.2 and up\n",
            "10839                  The SCP Foundation DB fr nn5n  ...  Varies with device\n",
            "10840  iHoroscope - 2018 Daily Horoscope & Astrology  ...  Varies with device\n",
            "\n",
            "[3 rows x 13 columns]\n"
          ],
          "name": "stdout"
        }
      ]
    },
    {
      "cell_type": "code",
      "metadata": {
        "id": "6uOlQIT8ocIT",
        "colab_type": "code",
        "colab": {
          "base_uri": "https://localhost:8080/",
          "height": 85
        },
        "outputId": "4b4ae59f-33ff-42bd-ecb7-d6f94537c8a7"
      },
      "source": [
        "# .columns give columns names\n",
        "print(apps.columns)"
      ],
      "execution_count": 10,
      "outputs": [
        {
          "output_type": "stream",
          "text": [
            "Index(['App', 'Category', 'Rating', 'Reviews', 'Size', 'Installs', 'Type',\n",
            "       'Price', 'Content Rating', 'Genres', 'Last Updated', 'Current Ver',\n",
            "       'Android Ver'],\n",
            "      dtype='object')\n"
          ],
          "name": "stdout"
        }
      ]
    },
    {
      "cell_type": "code",
      "metadata": {
        "id": "8KWT1lNrojDJ",
        "colab_type": "code",
        "colab": {
          "base_uri": "https://localhost:8080/",
          "height": 255
        },
        "outputId": "9ba2acfd-2dc1-4d12-d592-8070b169ec05"
      },
      "source": [
        "## .dtypes gives data types for each column\n",
        "print(apps.dtypes)"
      ],
      "execution_count": 11,
      "outputs": [
        {
          "output_type": "stream",
          "text": [
            "App                object\n",
            "Category           object\n",
            "Rating            float64\n",
            "Reviews            object\n",
            "Size               object\n",
            "Installs           object\n",
            "Type               object\n",
            "Price              object\n",
            "Content Rating     object\n",
            "Genres             object\n",
            "Last Updated       object\n",
            "Current Ver        object\n",
            "Android Ver        object\n",
            "dtype: object\n"
          ],
          "name": "stdout"
        }
      ]
    },
    {
      "cell_type": "code",
      "metadata": {
        "id": "pqSb7adnow43",
        "colab_type": "code",
        "colab": {}
      },
      "source": [
        ""
      ],
      "execution_count": 0,
      "outputs": []
    }
  ]
}